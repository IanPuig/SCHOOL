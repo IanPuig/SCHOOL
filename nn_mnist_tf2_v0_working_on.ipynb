{
  "nbformat": 4,
  "nbformat_minor": 0,
  "metadata": {
    "kernelspec": {
      "display_name": "Python 3",
      "language": "python",
      "name": "python3"
    },
    "language_info": {
      "codemirror_mode": {
        "name": "ipython",
        "version": 3
      },
      "file_extension": ".py",
      "mimetype": "text/x-python",
      "name": "python",
      "nbconvert_exporter": "python",
      "pygments_lexer": "ipython3",
      "version": "3.7.4"
    },
    "colab": {
      "name": "nn-mnist-tf2-v0-working-on.ipynb",
      "provenance": [],
      "collapsed_sections": [],
      "toc_visible": true
    },
    "accelerator": "GPU"
  },
  "cells": [
    {
      "cell_type": "markdown",
      "metadata": {
        "id": "Z0adjpg1snb-"
      },
      "source": [
        "![Nuclio logo](https://nuclio.school/wp-content/uploads/2018/12/nucleoDS-newBlack.png)"
      ]
    },
    {
      "cell_type": "markdown",
      "metadata": {
        "id": "5-3sjr5JsncC"
      },
      "source": [
        "## Primer ejemplo de Red Neuronal para el Master de Data Science de Nuclio School\n"
      ]
    },
    {
      "cell_type": "markdown",
      "metadata": {
        "id": "KXvHZBj1sncD"
      },
      "source": [
        "Recordemos los pasos a seguiren la creación de código para entrenar una red neuronal:\n",
        "<ol>\n",
        "    <li>Importar librerias: Keras, PyPlot y Numpy (añado time y datetime para controlar los tiempos de entrenamiento)</li>\n",
        "    <li>Definamos una red inicial (apilando bloques)</li>\n",
        "    <li>Definimos (o creamos) nuestro optimizador, añadiendo nuestra función error</li>\n",
        "    <li>Preparamos los datos (en este caso los cargamos)</li>\n",
        "    <li>Empezamos con el entrenamiento</li>\n",
        "    <li>Miramos los resultados y pasamos a la crítica mordaz</li>\n",
        "</ol>"
      ]
    },
    {
      "cell_type": "markdown",
      "metadata": {
        "id": "aiSc8Tv_sncE"
      },
      "source": [
        "## 1. Librerias\n",
        "\n",
        "Para empezar carguemos esas librerias que nos hacen falta"
      ]
    },
    {
      "cell_type": "code",
      "metadata": {
        "id": "54D6IQ-WsncF"
      },
      "source": [
        "from tensorflow import keras as ks\n",
        "from matplotlib import pyplot as plt\n",
        "import numpy as np\n",
        "import time\n",
        "import datetime"
      ],
      "execution_count": 1,
      "outputs": []
    },
    {
      "cell_type": "markdown",
      "metadata": {
        "id": "FComKV5nsncG"
      },
      "source": [
        "## 2. Arquitectura de red del modelo\n",
        "\n",
        "Construimos un modelo sencillo de red neuronal para los datos MNIST, que en resumen son:\n",
        "- Datos de entrada: imagenes de 28x28 pixeles con un canal de grises (valores de 1 a 256, enteros)\n",
        "- Datos de salida (labels): a cada imagen le otorgamos un valor de 0 a 9, un total de 10 classes\n",
        "\n",
        "<img src=\"https://3qeqpr26caki16dnhd19sv6by6v-wpengine.netdna-ssl.com/wp-content/uploads/2016/05/Examples-from-the-MNIST-dataset.png\">\n",
        "\n",
        "Para montar la arquitectura de la red neuronal se sigue el método **.Sequential()** de Keras (de input a output):\n",
        "\n",
        "- **Entrada** - Una conversion de una matriz 2D de 28x28 pixeles a un vector - método Flatten\n",
        "- **Oculto** - Una capa densa (fully connected) con 16 neuronas y activación lineal\n",
        "- **Salida** - Una capa densa (fully connected) con 10 neuronas (**las 10 clases de salida**) y activación lineal\n",
        "\n",
        "<img alt=\"\" src=\"//upload.wikimedia.org/wikipedia/commons/thumb/1/11/Colored_neural_network_es.svg/300px-Colored_neural_network_es.svg.png\" decoding=\"async\" width=\"300\" height=\"361\" class=\"thumbimage\" srcset=\"//upload.wikimedia.org/wikipedia/commons/thumb/1/11/Colored_neural_network_es.svg/450px-Colored_neural_network_es.svg.png 1.5x, //upload.wikimedia.org/wikipedia/commons/thumb/1/11/Colored_neural_network_es.svg/600px-Colored_neural_network_es.svg.png 2x\" data-file-width=\"296\" data-file-height=\"356\">"
      ]
    },
    {
      "cell_type": "code",
      "metadata": {
        "id": "QvzolrzIsncI",
        "colab": {
          "base_uri": "https://localhost:8080/"
        },
        "outputId": "da455557-0b79-41df-955b-031a4464b330"
      },
      "source": [
        "model = ks.Sequential()   # modelo tipo secuencial\n",
        "\n",
        "model.add(ks.layers.Conv2D(16, (3,3), strides=1, activation='relu', kernel_initializer='he_uniform', input_shape=(28,28,1))) # No mejoramos el modelo metiendo mas convoluciones para buscar texturas. deberemos mejorar la clasificacion\n",
        "model.add(ks.layers.Conv2D(16, (3,3), strides=1, activation='relu', kernel_initializer='he_uniform')) # duplicamos las convoluciones, empezamos con VGG \n",
        "model.add(ks.layers.MaxPool2D(pool_size=(2,2)))      # reducimos los tamaños de las imagenes a la mitad\n",
        "model.add(ks.layers.Dropout(0.6))                    # dropout siempre despues del maxpool --> pack 2 convo, 1 maxpool, 1 dropout lo ponemos de 0.2 a 0.6 para ver si mejora el overfitting\n",
        "\n",
        "model.add(ks.layers.Flatten())                       # convierto las fotos de 28,28, matrices de 2d, a una en array lineal 1 dimension\n",
        "model.add(ks.layers.Dense(128, activation='relu'))   # capa profunda de 16 neuronas, la puedo modificar a 32 64 128 256 1024 --> ponemos 128 para mejorar la fase de clasificacion\n",
        "model.add(ks.layers.Dropout(0.3))                    # intento mejorar el overfitting   \n",
        "\n",
        "model.add(ks.layers.Dense(128, activation='relu'))   # capa profunda de 16 neuronas, la puedo modificar a 32 64 128 256 1024 --> ponemos 128 para mejorar la fase de clasificacion\n",
        "model.add(ks.layers.Dropout(0.3))                    # intento mejorar el overfittin\n",
        "\n",
        "model.add(ks.layers.Dense(10, activation='softmax')) # esta capa es la de salida, no la puedo modificar, tengo 10 clases, necesito 10 neuronas\n",
        "model.summary()\n",
        "\n",
        "# este ejercicio no necesita batch normalization porque tiene solo 6 capas, no hay peligro de explosion de valores\n",
        "# aumentar de convoluciones de 16 a 32 no nos ha mejorado el accuracy\n",
        "# la red tiene que ser mas compleja cuanto mas complejos sean los datos\n",
        "# este modelo no necesita mas convoluciones sino mejorar la clasificacion, metemos una capa dense y una capa dropout\n",
        "# Activation 'linear' es para regresiones. Para clasificacion necesitamos la 'relu' o la 'softmax'\n",
        "# En la salida de clasificacion, si es 1 clase entonces 'sigmoid', si es multiclase entonces 'softmax'"
      ],
      "execution_count": 2,
      "outputs": [
        {
          "output_type": "stream",
          "text": [
            "Model: \"sequential\"\n",
            "_________________________________________________________________\n",
            "Layer (type)                 Output Shape              Param #   \n",
            "=================================================================\n",
            "conv2d (Conv2D)              (None, 26, 26, 16)        160       \n",
            "_________________________________________________________________\n",
            "conv2d_1 (Conv2D)            (None, 24, 24, 16)        2320      \n",
            "_________________________________________________________________\n",
            "max_pooling2d (MaxPooling2D) (None, 12, 12, 16)        0         \n",
            "_________________________________________________________________\n",
            "dropout (Dropout)            (None, 12, 12, 16)        0         \n",
            "_________________________________________________________________\n",
            "flatten (Flatten)            (None, 2304)              0         \n",
            "_________________________________________________________________\n",
            "dense (Dense)                (None, 128)               295040    \n",
            "_________________________________________________________________\n",
            "dropout_1 (Dropout)          (None, 128)               0         \n",
            "_________________________________________________________________\n",
            "dense_1 (Dense)              (None, 128)               16512     \n",
            "_________________________________________________________________\n",
            "dropout_2 (Dropout)          (None, 128)               0         \n",
            "_________________________________________________________________\n",
            "dense_2 (Dense)              (None, 10)                1290      \n",
            "=================================================================\n",
            "Total params: 315,322\n",
            "Trainable params: 315,322\n",
            "Non-trainable params: 0\n",
            "_________________________________________________________________\n"
          ],
          "name": "stdout"
        }
      ]
    },
    {
      "cell_type": "markdown",
      "metadata": {
        "id": "89tt6mVYsncJ"
      },
      "source": [
        "Para revisar un modelo, nos basta con llamar al método **.summary()** del modelo"
      ]
    },
    {
      "cell_type": "markdown",
      "metadata": {
        "id": "yy7QVwSAsncK"
      },
      "source": [
        "tDel **.summary()** se extrae información muy relevante: el número de paràmetros por capa y el total a entrenar.4\n",
        "\n",
        "Fijaos que 28x28 son 784 valores, así que es lo que tenemos de entrada. Esos 784 neuronas se enlazan con 16 (16 * 784 pesos + 16 bias = 12560) y\n",
        " esas 16 con las 10 de salida (16 * 10 pesos + 10 bias). Un total de 12730 parametros que aprender  "
      ]
    },
    {
      "cell_type": "markdown",
      "metadata": {
        "id": "HKt4WmAosncL"
      },
      "source": [
        "## 3. Optimizador, función error\n",
        "\n",
        "Definimos los parametros del modelo para su entrenamiento:\n",
        "* **Loss** - Función de error (función de coste) - Optamos por la Sparse Categorical Crosstentropy porque estamos clasificando imagenes\n",
        "* **Optimizer** - que optimizador de la función de coste usaremos, en este ejemplo SGD (Stochastic gradient descent)\n",
        "* **Metrics** - que metrica usaremos para evaluar el modelo... en este caso se usa la Accuracy\n",
        "\n",
        "**Nota sobre SGD:** por defecto lleva un learning rate de 0.01 y sin momentum (valor de 0.0)"
      ]
    },
    {
      "cell_type": "code",
      "metadata": {
        "id": "BebpghF3sncM"
      },
      "source": [
        "model.compile(optimizer='Adam',\n",
        "              loss='sparse_categorical_crossentropy',\n",
        "              metrics=['accuracy'] )"
      ],
      "execution_count": 3,
      "outputs": []
    },
    {
      "cell_type": "markdown",
      "metadata": {
        "id": "-xNri-HwsncN"
      },
      "source": [
        "## 4. Preparamos los datos\n",
        "\n",
        "Cargamos los datos de MNIST de los datasets directamente de las librerias de Keras. Estos ya estan dispuestos en train and test\n",
        "\n",
        "**Detalle importante:** \n",
        "> La red neuronal requiere que los inputs sean números reales, y lo haremos forzando la division de los valores de dentro de las matrices 28x28 (que tienen valoress del 0 al 255) por 255.0 (un real)"
      ]
    },
    {
      "cell_type": "code",
      "metadata": {
        "id": "eX8IVPeisncO",
        "colab": {
          "base_uri": "https://localhost:8080/"
        },
        "outputId": "6a0d639a-92fa-4fdb-e9ee-e592712ed385"
      },
      "source": [
        "mnist = ks.datasets.mnist\n",
        "\n",
        "(x_train, y_train), (x_test, y_test) = mnist.load_data()\n",
        "\n",
        "x_train, x_test = x_train / 255.0, x_test / 255.0                # dividimos por 255.0 para tener los valores entre 0 y 1, valores REALES"
      ],
      "execution_count": 4,
      "outputs": [
        {
          "output_type": "stream",
          "text": [
            "Downloading data from https://storage.googleapis.com/tensorflow/tf-keras-datasets/mnist.npz\n",
            "11493376/11490434 [==============================] - 0s 0us/step\n"
          ],
          "name": "stdout"
        }
      ]
    },
    {
      "cell_type": "markdown",
      "metadata": {
        "id": "ZiatkC5IsncO"
      },
      "source": [
        "Pintemos una muestra de las imagenes del dataset MNIST, a ver si se parece en algo a lo que esperamos.\n",
        "Primero, vemos que tipos de datos tengo, después mapeamos esas matrices en una escala de grises utilizando el método **.get_cmap()** de PlotLy con los nueve primeros números del dataset."
      ]
    },
    {
      "cell_type": "code",
      "metadata": {
        "colab": {
          "base_uri": "https://localhost:8080/",
          "height": 302
        },
        "id": "YSlSkbH2sncP",
        "outputId": "9b145044-e38f-4ea2-a427-050a82b7725e"
      },
      "source": [
        "# IMPORTANTE, imprimiros de vez en cuando los SHAPES de los arrays que utilizamos\n",
        "\n",
        "\n",
        "print('Train: X=%s, y=%s' % (x_train.shape, y_train.shape))\n",
        "print('Test: X=%s, y=%s' % (x_test.shape, y_test.shape))\n",
        "\n",
        "for i in range(9):\n",
        "    plt.subplot(330 + 1 + i)\n",
        "    plt.imshow(x_train[i], cmap=plt.get_cmap('gray'))\n",
        "\n",
        "plt.subplots_adjust(hspace = 0.5)\n",
        "plt.show()"
      ],
      "execution_count": 5,
      "outputs": [
        {
          "output_type": "stream",
          "text": [
            "Train: X=(60000, 28, 28), y=(60000,)\n",
            "Test: X=(10000, 28, 28), y=(10000,)\n"
          ],
          "name": "stdout"
        },
        {
          "output_type": "display_data",
          "data": {
            "image/png": "[encoded data removed]",
            "text/plain": [
              "<Figure size 432x288 with 9 Axes>"
            ]
          },
          "metadata": {
            "tags": [],
            "needs_background": "light"
          }
        }
      ]
    },
    {
      "cell_type": "markdown",
      "metadata": {
        "id": "nP3eEmopsncQ"
      },
      "source": [
        "Como vamos a querer ir haciendo validación a la vez que entrenamos (muy practico)"
      ]
    },
    {
      "cell_type": "code",
      "metadata": {
        "id": "_EgiXC44sncR"
      },
      "source": [
        "x_val = x_train[-10000:]   # agafo a partir del 10.000 fins el final\n",
        "y_val = y_train[-10000:]   # agafo a partir del 10.000 fins el final\n",
        "\n",
        "x_train = x_train[:-10000]  # agafo desde 0 fins a 10.000\n",
        "y_train = y_train[:-10000]  # agafo desde 0 fins a 10.000\n",
        "\n"
      ],
      "execution_count": 6,
      "outputs": []
    },
    {
      "cell_type": "code",
      "metadata": {
        "colab": {
          "base_uri": "https://localhost:8080/"
        },
        "id": "bx9vqf2eHaqT",
        "outputId": "2df53085-9db3-4a01-cc8e-1cd1abe2d5e5"
      },
      "source": [
        "print('Train: X=%s, y=%s' % (x_train.shape, y_train.shape))\r\n",
        "print('Validation: X=%s, y=%s' % (x_val.shape, y_val.shape))\r\n",
        "print('Test: X=%s, y=%s' % (x_test.shape, y_test.shape))"
      ],
      "execution_count": 7,
      "outputs": [
        {
          "output_type": "stream",
          "text": [
            "Train: X=(50000, 28, 28), y=(50000,)\n",
            "Validation: X=(10000, 28, 28), y=(10000,)\n",
            "Test: X=(10000, 28, 28), y=(10000,)\n"
          ],
          "name": "stdout"
        }
      ]
    },
    {
      "cell_type": "code",
      "metadata": {
        "id": "QKhaWehmVNm-"
      },
      "source": [
        "x_train_cnn = x_train.reshape((50000, 28, 28, 1))\r\n",
        "x_test_cnn = x_test.reshape((10000, 28, 28, 1))\r\n",
        "x_val_cnn = x_val.reshape((10000, 28, 28, 1))"
      ],
      "execution_count": 8,
      "outputs": []
    },
    {
      "cell_type": "markdown",
      "metadata": {
        "id": "pwC8tTi4sncR"
      },
      "source": [
        "## 5. Entrenamiento\n",
        "\n",
        "Ya podemos ponernos a entrenar el modelo!!\n",
        "\n",
        "Empezaremos con 30 epocs, es decir, 30 pasadas completas del dataset (que a su vez sera con mini-batches internamente), por defecto en Keras, **el batch_size es de 32**.\n",
        "\n",
        "El metodo .fit() nos permite, definir además si disponemos de varias CPUs, GPUs, y si queremos ir validando datos a cada fin de epoch.\n",
        "\n",
        "**Nota: Este fit, en mi laptop no tarda más de 2 minutos.** (por eso vale la pena capturar los tiempos, así podeis validar las capacidades de vuestro equipo y valorar Google Colab)."
      ]
    },
    {
      "cell_type": "code",
      "metadata": {
        "id": "N6B2-tkBsncS"
      },
      "source": [
        "t = time.perf_counter()"
      ],
      "execution_count": 9,
      "outputs": []
    },
    {
      "cell_type": "code",
      "metadata": {
        "colab": {
          "base_uri": "https://localhost:8080/"
        },
        "id": "3veK1BU3sncS",
        "outputId": "36c9291e-dcd1-434d-d2e1-1264c047ac4b"
      },
      "source": [
        "history = model.fit(x_train_cnn, y_train, epochs=100, batch_size=512, # incrementamos el batch size para que vaya mas rapido por defecto 32, 50000/512= 98\r\n",
        "                    use_multiprocessing=False, validation_data=(x_val_cnn, y_val))"
      ],
      "execution_count": 10,
      "outputs": [
        {
          "output_type": "stream",
          "text": [
            "Epoch 1/100\n",
            "98/98 [==============================] - 8s 14ms/step - loss: 1.4247 - accuracy: 0.5190 - val_loss: 0.1555 - val_accuracy: 0.9564\n",
            "Epoch 2/100\n",
            "98/98 [==============================] - 1s 9ms/step - loss: 0.2938 - accuracy: 0.9116 - val_loss: 0.0930 - val_accuracy: 0.9739\n",
            "Epoch 3/100\n",
            "98/98 [==============================] - 1s 9ms/step - loss: 0.1967 - accuracy: 0.9404 - val_loss: 0.0724 - val_accuracy: 0.9809\n",
            "Epoch 4/100\n",
            "98/98 [==============================] - 1s 9ms/step - loss: 0.1639 - accuracy: 0.9517 - val_loss: 0.0621 - val_accuracy: 0.9829\n",
            "Epoch 5/100\n",
            "98/98 [==============================] - 1s 9ms/step - loss: 0.1355 - accuracy: 0.9588 - val_loss: 0.0544 - val_accuracy: 0.9844\n",
            "Epoch 6/100\n",
            "98/98 [==============================] - 1s 9ms/step - loss: 0.1166 - accuracy: 0.9662 - val_loss: 0.0482 - val_accuracy: 0.9861\n",
            "Epoch 7/100\n",
            "98/98 [==============================] - 1s 9ms/step - loss: 0.1082 - accuracy: 0.9667 - val_loss: 0.0452 - val_accuracy: 0.9870\n",
            "Epoch 8/100\n",
            "98/98 [==============================] - 1s 9ms/step - loss: 0.1000 - accuracy: 0.9703 - val_loss: 0.0437 - val_accuracy: 0.9876\n",
            "Epoch 9/100\n",
            "98/98 [==============================] - 1s 9ms/step - loss: 0.0865 - accuracy: 0.9739 - val_loss: 0.0424 - val_accuracy: 0.9883\n",
            "Epoch 10/100\n",
            "98/98 [==============================] - 1s 9ms/step - loss: 0.0854 - accuracy: 0.9752 - val_loss: 0.0392 - val_accuracy: 0.9893\n",
            "Epoch 11/100\n",
            "98/98 [==============================] - 1s 9ms/step - loss: 0.0797 - accuracy: 0.9768 - val_loss: 0.0398 - val_accuracy: 0.9892\n",
            "Epoch 12/100\n",
            "98/98 [==============================] - 1s 9ms/step - loss: 0.0751 - accuracy: 0.9772 - val_loss: 0.0385 - val_accuracy: 0.9891\n",
            "Epoch 13/100\n",
            "98/98 [==============================] - 1s 9ms/step - loss: 0.0740 - accuracy: 0.9774 - val_loss: 0.0367 - val_accuracy: 0.9902\n",
            "Epoch 14/100\n",
            "98/98 [==============================] - 1s 9ms/step - loss: 0.0754 - accuracy: 0.9772 - val_loss: 0.0362 - val_accuracy: 0.9903\n",
            "Epoch 15/100\n",
            "98/98 [==============================] - 1s 9ms/step - loss: 0.0632 - accuracy: 0.9812 - val_loss: 0.0353 - val_accuracy: 0.9906\n",
            "Epoch 16/100\n",
            "98/98 [==============================] - 1s 9ms/step - loss: 0.0645 - accuracy: 0.9798 - val_loss: 0.0339 - val_accuracy: 0.9910\n",
            "Epoch 17/100\n",
            "98/98 [==============================] - 1s 9ms/step - loss: 0.0631 - accuracy: 0.9801 - val_loss: 0.0345 - val_accuracy: 0.9909\n",
            "Epoch 18/100\n",
            "98/98 [==============================] - 1s 9ms/step - loss: 0.0584 - accuracy: 0.9808 - val_loss: 0.0356 - val_accuracy: 0.9909\n",
            "Epoch 19/100\n",
            "98/98 [==============================] - 1s 9ms/step - loss: 0.0557 - accuracy: 0.9830 - val_loss: 0.0341 - val_accuracy: 0.9914\n",
            "Epoch 20/100\n",
            "98/98 [==============================] - 1s 9ms/step - loss: 0.0555 - accuracy: 0.9831 - val_loss: 0.0356 - val_accuracy: 0.9902\n",
            "Epoch 21/100\n",
            "98/98 [==============================] - 1s 9ms/step - loss: 0.0512 - accuracy: 0.9838 - val_loss: 0.0319 - val_accuracy: 0.9912\n",
            "Epoch 22/100\n",
            "98/98 [==============================] - 1s 10ms/step - loss: 0.0479 - accuracy: 0.9847 - val_loss: 0.0314 - val_accuracy: 0.9917\n",
            "Epoch 23/100\n",
            "98/98 [==============================] - 1s 9ms/step - loss: 0.0496 - accuracy: 0.9842 - val_loss: 0.0318 - val_accuracy: 0.9910\n",
            "Epoch 24/100\n",
            "98/98 [==============================] - 1s 9ms/step - loss: 0.0453 - accuracy: 0.9862 - val_loss: 0.0310 - val_accuracy: 0.9918\n",
            "Epoch 25/100\n",
            "98/98 [==============================] - 1s 9ms/step - loss: 0.0463 - accuracy: 0.9848 - val_loss: 0.0315 - val_accuracy: 0.9914\n",
            "Epoch 26/100\n",
            "98/98 [==============================] - 1s 9ms/step - loss: 0.0449 - accuracy: 0.9860 - val_loss: 0.0337 - val_accuracy: 0.9913\n",
            "Epoch 27/100\n",
            "98/98 [==============================] - 1s 9ms/step - loss: 0.0432 - accuracy: 0.9863 - val_loss: 0.0339 - val_accuracy: 0.9915\n",
            "Epoch 28/100\n",
            "98/98 [==============================] - 1s 9ms/step - loss: 0.0405 - accuracy: 0.9873 - val_loss: 0.0324 - val_accuracy: 0.9923\n",
            "Epoch 29/100\n",
            "98/98 [==============================] - 1s 9ms/step - loss: 0.0471 - accuracy: 0.9857 - val_loss: 0.0339 - val_accuracy: 0.9912\n",
            "Epoch 30/100\n",
            "98/98 [==============================] - 1s 9ms/step - loss: 0.0421 - accuracy: 0.9863 - val_loss: 0.0296 - val_accuracy: 0.9920\n",
            "Epoch 31/100\n",
            "98/98 [==============================] - 1s 9ms/step - loss: 0.0372 - accuracy: 0.9875 - val_loss: 0.0304 - val_accuracy: 0.9923\n",
            "Epoch 32/100\n",
            "98/98 [==============================] - 1s 9ms/step - loss: 0.0418 - accuracy: 0.9869 - val_loss: 0.0301 - val_accuracy: 0.9922\n",
            "Epoch 33/100\n",
            "98/98 [==============================] - 1s 9ms/step - loss: 0.0383 - accuracy: 0.9877 - val_loss: 0.0288 - val_accuracy: 0.9922\n",
            "Epoch 34/100\n",
            "98/98 [==============================] - 1s 9ms/step - loss: 0.0356 - accuracy: 0.9888 - val_loss: 0.0298 - val_accuracy: 0.9922\n",
            "Epoch 35/100\n",
            "98/98 [==============================] - 1s 9ms/step - loss: 0.0373 - accuracy: 0.9886 - val_loss: 0.0293 - val_accuracy: 0.9921\n",
            "Epoch 36/100\n",
            "98/98 [==============================] - 1s 9ms/step - loss: 0.0374 - accuracy: 0.9878 - val_loss: 0.0318 - val_accuracy: 0.9917\n",
            "Epoch 37/100\n",
            "98/98 [==============================] - 1s 9ms/step - loss: 0.0362 - accuracy: 0.9878 - val_loss: 0.0307 - val_accuracy: 0.9918\n",
            "Epoch 38/100\n",
            "98/98 [==============================] - 1s 9ms/step - loss: 0.0374 - accuracy: 0.9887 - val_loss: 0.0311 - val_accuracy: 0.9921\n",
            "Epoch 39/100\n",
            "98/98 [==============================] - 1s 9ms/step - loss: 0.0363 - accuracy: 0.9884 - val_loss: 0.0295 - val_accuracy: 0.9923\n",
            "Epoch 40/100\n",
            "98/98 [==============================] - 1s 9ms/step - loss: 0.0322 - accuracy: 0.9900 - val_loss: 0.0310 - val_accuracy: 0.9913\n",
            "Epoch 41/100\n",
            "98/98 [==============================] - 1s 9ms/step - loss: 0.0359 - accuracy: 0.9886 - val_loss: 0.0303 - val_accuracy: 0.9927\n",
            "Epoch 42/100\n",
            "98/98 [==============================] - 1s 9ms/step - loss: 0.0332 - accuracy: 0.9892 - val_loss: 0.0293 - val_accuracy: 0.9929\n",
            "Epoch 43/100\n",
            "98/98 [==============================] - 1s 9ms/step - loss: 0.0313 - accuracy: 0.9903 - val_loss: 0.0314 - val_accuracy: 0.9926\n",
            "Epoch 44/100\n",
            "98/98 [==============================] - 1s 9ms/step - loss: 0.0310 - accuracy: 0.9901 - val_loss: 0.0306 - val_accuracy: 0.9927\n",
            "Epoch 45/100\n",
            "98/98 [==============================] - 1s 9ms/step - loss: 0.0375 - accuracy: 0.9887 - val_loss: 0.0302 - val_accuracy: 0.9925\n",
            "Epoch 46/100\n",
            "98/98 [==============================] - 1s 9ms/step - loss: 0.0341 - accuracy: 0.9898 - val_loss: 0.0312 - val_accuracy: 0.9928\n",
            "Epoch 47/100\n",
            "98/98 [==============================] - 1s 9ms/step - loss: 0.0299 - accuracy: 0.9902 - val_loss: 0.0280 - val_accuracy: 0.9928\n",
            "Epoch 48/100\n",
            "98/98 [==============================] - 1s 10ms/step - loss: 0.0318 - accuracy: 0.9902 - val_loss: 0.0283 - val_accuracy: 0.9929\n",
            "Epoch 49/100\n",
            "98/98 [==============================] - 1s 9ms/step - loss: 0.0286 - accuracy: 0.9909 - val_loss: 0.0309 - val_accuracy: 0.9921\n",
            "Epoch 50/100\n",
            "98/98 [==============================] - 1s 9ms/step - loss: 0.0291 - accuracy: 0.9906 - val_loss: 0.0291 - val_accuracy: 0.9931\n",
            "Epoch 51/100\n",
            "98/98 [==============================] - 1s 9ms/step - loss: 0.0290 - accuracy: 0.9907 - val_loss: 0.0298 - val_accuracy: 0.9931\n",
            "Epoch 52/100\n",
            "98/98 [==============================] - 1s 9ms/step - loss: 0.0281 - accuracy: 0.9907 - val_loss: 0.0292 - val_accuracy: 0.9932\n",
            "Epoch 53/100\n",
            "98/98 [==============================] - 1s 9ms/step - loss: 0.0278 - accuracy: 0.9907 - val_loss: 0.0295 - val_accuracy: 0.9930\n",
            "Epoch 54/100\n",
            "98/98 [==============================] - 1s 9ms/step - loss: 0.0277 - accuracy: 0.9914 - val_loss: 0.0313 - val_accuracy: 0.9929\n",
            "Epoch 55/100\n",
            "98/98 [==============================] - 1s 9ms/step - loss: 0.0276 - accuracy: 0.9908 - val_loss: 0.0313 - val_accuracy: 0.9926\n",
            "Epoch 56/100\n",
            "98/98 [==============================] - 1s 9ms/step - loss: 0.0295 - accuracy: 0.9907 - val_loss: 0.0300 - val_accuracy: 0.9929\n",
            "Epoch 57/100\n",
            "98/98 [==============================] - 1s 9ms/step - loss: 0.0302 - accuracy: 0.9900 - val_loss: 0.0291 - val_accuracy: 0.9917\n",
            "Epoch 58/100\n",
            "98/98 [==============================] - 1s 9ms/step - loss: 0.0257 - accuracy: 0.9913 - val_loss: 0.0323 - val_accuracy: 0.9920\n",
            "Epoch 59/100\n",
            "98/98 [==============================] - 1s 9ms/step - loss: 0.0266 - accuracy: 0.9910 - val_loss: 0.0292 - val_accuracy: 0.9938\n",
            "Epoch 60/100\n",
            "98/98 [==============================] - 1s 9ms/step - loss: 0.0257 - accuracy: 0.9921 - val_loss: 0.0310 - val_accuracy: 0.9932\n",
            "Epoch 61/100\n",
            "98/98 [==============================] - 1s 9ms/step - loss: 0.0262 - accuracy: 0.9914 - val_loss: 0.0300 - val_accuracy: 0.9930\n",
            "Epoch 62/100\n",
            "98/98 [==============================] - 1s 10ms/step - loss: 0.0248 - accuracy: 0.9922 - val_loss: 0.0309 - val_accuracy: 0.9934\n",
            "Epoch 63/100\n",
            "98/98 [==============================] - 1s 9ms/step - loss: 0.0266 - accuracy: 0.9911 - val_loss: 0.0284 - val_accuracy: 0.9936\n",
            "Epoch 64/100\n",
            "98/98 [==============================] - 1s 9ms/step - loss: 0.0232 - accuracy: 0.9932 - val_loss: 0.0308 - val_accuracy: 0.9924\n",
            "Epoch 65/100\n",
            "98/98 [==============================] - 1s 9ms/step - loss: 0.0267 - accuracy: 0.9919 - val_loss: 0.0317 - val_accuracy: 0.9931\n",
            "Epoch 66/100\n",
            "98/98 [==============================] - 1s 9ms/step - loss: 0.0249 - accuracy: 0.9921 - val_loss: 0.0306 - val_accuracy: 0.9933\n",
            "Epoch 67/100\n",
            "98/98 [==============================] - 1s 9ms/step - loss: 0.0242 - accuracy: 0.9917 - val_loss: 0.0293 - val_accuracy: 0.9932\n",
            "Epoch 68/100\n",
            "98/98 [==============================] - 1s 9ms/step - loss: 0.0232 - accuracy: 0.9928 - val_loss: 0.0311 - val_accuracy: 0.9927\n",
            "Epoch 69/100\n",
            "98/98 [==============================] - 1s 9ms/step - loss: 0.0233 - accuracy: 0.9926 - val_loss: 0.0284 - val_accuracy: 0.9924\n",
            "Epoch 70/100\n",
            "98/98 [==============================] - 1s 9ms/step - loss: 0.0276 - accuracy: 0.9913 - val_loss: 0.0274 - val_accuracy: 0.9936\n",
            "Epoch 71/100\n",
            "98/98 [==============================] - 1s 9ms/step - loss: 0.0209 - accuracy: 0.9933 - val_loss: 0.0276 - val_accuracy: 0.9933\n",
            "Epoch 72/100\n",
            "98/98 [==============================] - 1s 9ms/step - loss: 0.0258 - accuracy: 0.9913 - val_loss: 0.0287 - val_accuracy: 0.9932\n",
            "Epoch 73/100\n",
            "98/98 [==============================] - 1s 9ms/step - loss: 0.0246 - accuracy: 0.9918 - val_loss: 0.0268 - val_accuracy: 0.9931\n",
            "Epoch 74/100\n",
            "98/98 [==============================] - 1s 9ms/step - loss: 0.0221 - accuracy: 0.9927 - val_loss: 0.0295 - val_accuracy: 0.9934\n",
            "Epoch 75/100\n",
            "98/98 [==============================] - 1s 9ms/step - loss: 0.0213 - accuracy: 0.9929 - val_loss: 0.0282 - val_accuracy: 0.9938\n",
            "Epoch 76/100\n",
            "98/98 [==============================] - 1s 10ms/step - loss: 0.0246 - accuracy: 0.9926 - val_loss: 0.0292 - val_accuracy: 0.9930\n",
            "Epoch 77/100\n",
            "98/98 [==============================] - 1s 10ms/step - loss: 0.0236 - accuracy: 0.9929 - val_loss: 0.0312 - val_accuracy: 0.9927\n",
            "Epoch 78/100\n",
            "98/98 [==============================] - 1s 9ms/step - loss: 0.0195 - accuracy: 0.9931 - val_loss: 0.0322 - val_accuracy: 0.9926\n",
            "Epoch 79/100\n",
            "98/98 [==============================] - 1s 9ms/step - loss: 0.0253 - accuracy: 0.9920 - val_loss: 0.0301 - val_accuracy: 0.9935\n",
            "Epoch 80/100\n",
            "98/98 [==============================] - 1s 9ms/step - loss: 0.0224 - accuracy: 0.9932 - val_loss: 0.0274 - val_accuracy: 0.9932\n",
            "Epoch 81/100\n",
            "98/98 [==============================] - 1s 9ms/step - loss: 0.0243 - accuracy: 0.9920 - val_loss: 0.0282 - val_accuracy: 0.9931\n",
            "Epoch 82/100\n",
            "98/98 [==============================] - 1s 9ms/step - loss: 0.0217 - accuracy: 0.9934 - val_loss: 0.0313 - val_accuracy: 0.9925\n",
            "Epoch 83/100\n",
            "98/98 [==============================] - 1s 9ms/step - loss: 0.0218 - accuracy: 0.9931 - val_loss: 0.0287 - val_accuracy: 0.9931\n",
            "Epoch 84/100\n",
            "98/98 [==============================] - 1s 9ms/step - loss: 0.0207 - accuracy: 0.9936 - val_loss: 0.0313 - val_accuracy: 0.9932\n",
            "Epoch 85/100\n",
            "98/98 [==============================] - 1s 9ms/step - loss: 0.0226 - accuracy: 0.9929 - val_loss: 0.0297 - val_accuracy: 0.9934\n",
            "Epoch 86/100\n",
            "98/98 [==============================] - 1s 9ms/step - loss: 0.0207 - accuracy: 0.9933 - val_loss: 0.0304 - val_accuracy: 0.9929\n",
            "Epoch 87/100\n",
            "98/98 [==============================] - 1s 9ms/step - loss: 0.0218 - accuracy: 0.9931 - val_loss: 0.0304 - val_accuracy: 0.9927\n",
            "Epoch 88/100\n",
            "98/98 [==============================] - 1s 9ms/step - loss: 0.0202 - accuracy: 0.9932 - val_loss: 0.0294 - val_accuracy: 0.9928\n",
            "Epoch 89/100\n",
            "98/98 [==============================] - 1s 9ms/step - loss: 0.0218 - accuracy: 0.9936 - val_loss: 0.0302 - val_accuracy: 0.9920\n",
            "Epoch 90/100\n",
            "98/98 [==============================] - 1s 9ms/step - loss: 0.0216 - accuracy: 0.9925 - val_loss: 0.0287 - val_accuracy: 0.9927\n",
            "Epoch 91/100\n",
            "98/98 [==============================] - 1s 9ms/step - loss: 0.0207 - accuracy: 0.9933 - val_loss: 0.0306 - val_accuracy: 0.9932\n",
            "Epoch 92/100\n",
            "98/98 [==============================] - 1s 9ms/step - loss: 0.0207 - accuracy: 0.9935 - val_loss: 0.0296 - val_accuracy: 0.9934\n",
            "Epoch 93/100\n",
            "98/98 [==============================] - 1s 9ms/step - loss: 0.0203 - accuracy: 0.9934 - val_loss: 0.0306 - val_accuracy: 0.9927\n",
            "Epoch 94/100\n",
            "98/98 [==============================] - 1s 9ms/step - loss: 0.0189 - accuracy: 0.9937 - val_loss: 0.0292 - val_accuracy: 0.9932\n",
            "Epoch 95/100\n",
            "98/98 [==============================] - 1s 10ms/step - loss: 0.0200 - accuracy: 0.9938 - val_loss: 0.0289 - val_accuracy: 0.9927\n",
            "Epoch 96/100\n",
            "98/98 [==============================] - 1s 10ms/step - loss: 0.0198 - accuracy: 0.9934 - val_loss: 0.0300 - val_accuracy: 0.9932\n",
            "Epoch 97/100\n",
            "98/98 [==============================] - 1s 9ms/step - loss: 0.0195 - accuracy: 0.9936 - val_loss: 0.0281 - val_accuracy: 0.9933\n",
            "Epoch 98/100\n",
            "98/98 [==============================] - 1s 10ms/step - loss: 0.0212 - accuracy: 0.9930 - val_loss: 0.0292 - val_accuracy: 0.9926\n",
            "Epoch 99/100\n",
            "98/98 [==============================] - 1s 9ms/step - loss: 0.0189 - accuracy: 0.9937 - val_loss: 0.0299 - val_accuracy: 0.9931\n",
            "Epoch 100/100\n",
            "98/98 [==============================] - 1s 10ms/step - loss: 0.0201 - accuracy: 0.9930 - val_loss: 0.0309 - val_accuracy: 0.9938\n"
          ],
          "name": "stdout"
        }
      ]
    },
    {
      "cell_type": "markdown",
      "metadata": {
        "id": "90RZkhHyIHTd"
      },
      "source": [
        "#### 50000 imagenes / 32 imagenes cada vez (backsize por defecto) = 1562.5 es lo que utiliza cada epoch.   \r\n",
        "#### Accuracy 0.10 acierta 1 imagen de cada 10"
      ]
    },
    {
      "cell_type": "markdown",
      "metadata": {
        "id": "6vBq24m0IE_u"
      },
      "source": [
        ""
      ]
    },
    {
      "cell_type": "code",
      "metadata": {
        "colab": {
          "base_uri": "https://localhost:8080/"
        },
        "id": "CDcvEznrsncT",
        "outputId": "d035b518-27a1-4392-e340-51a3cee3e5e6"
      },
      "source": [
        "elapsed_time = datetime.timedelta(seconds=(time.perf_counter() - t))\n",
        "\n",
        "print('Tiempo de entrenamiento:', elapsed_time)"
      ],
      "execution_count": 11,
      "outputs": [
        {
          "output_type": "stream",
          "text": [
            "Tiempo de entrenamiento: 0:01:38.506592\n"
          ],
          "name": "stdout"
        }
      ]
    },
    {
      "cell_type": "markdown",
      "metadata": {
        "id": "gnHQzPLqsncT"
      },
      "source": [
        "## 6. Evaluamos los resultados\n",
        "\n",
        "Obtengamos una grafica de como el error y la accuracy van evolucionando en cada epoch en los datos de entrenamiento y en la validación"
      ]
    },
    {
      "cell_type": "code",
      "metadata": {
        "colab": {
          "base_uri": "https://localhost:8080/",
          "height": 545
        },
        "id": "LV-HzysOsncU",
        "outputId": "3a4e7e1e-285d-47e5-ab00-85f356796ab0"
      },
      "source": [
        "plt.title('Cross Entropy Loss')\n",
        "plt.plot(history.history['loss'], color='blue', label='train')\n",
        "plt.plot(history.history['val_loss'], color='orange', label='test')\n",
        "plt.legend()\n",
        "plt.show()\n",
        "\n",
        "plt.title('Classification Accuracy')\n",
        "plt.plot(history.history['accuracy'], color='blue', label='train')\n",
        "plt.plot(history.history['val_accuracy'], color='orange', label='test')\n",
        "plt.legend()\n",
        "plt.show()"
      ],
      "execution_count": 12,
      "outputs": [
        {
          "output_type": "display_data",
          "data": {
            "image/png": "[encoded data removed]",
            "text/plain": [
              "<Figure size 432x288 with 1 Axes>"
            ]
          },
          "metadata": {
            "tags": [],
            "needs_background": "light"
          }
        },
        {
          "output_type": "display_data",
          "data": {
            "image/png": "[encoded data removed]",
            "text/plain": [
              "<Figure size 432x288 with 1 Axes>"
            ]
          },
          "metadata": {
            "tags": [],
            "needs_background": "light"
          }
        }
      ]
    },
    {
      "cell_type": "markdown",
      "metadata": {
        "id": "9UyBkNFfsncU"
      },
      "source": [
        "Evaluemos el modelo contra los valores de testeo"
      ]
    },
    {
      "cell_type": "code",
      "metadata": {
        "colab": {
          "base_uri": "https://localhost:8080/"
        },
        "id": "WI_HyE9ssncV",
        "outputId": "ecf9e7ba-345e-4b0f-d945-f2a6226e0a26"
      },
      "source": [
        "model.evaluate(x_test_cnn,  y_test, verbose=2)"
      ],
      "execution_count": 13,
      "outputs": [
        {
          "output_type": "stream",
          "text": [
            "313/313 - 0s - loss: 0.0239 - accuracy: 0.9935\n"
          ],
          "name": "stdout"
        },
        {
          "output_type": "execute_result",
          "data": {
            "text/plain": [
              "[0.023906579241156578, 0.9934999942779541]"
            ]
          },
          "metadata": {
            "tags": []
          },
          "execution_count": 13
        }
      ]
    },
    {
      "cell_type": "markdown",
      "metadata": {
        "id": "9lioyke6sncW"
      },
      "source": [
        "El coste podemos ver que es estable. Además la accuracy baila muchísimo. No se puede decir que sea un modelo muy bueno.\n",
        "\n",
        "Veamos que tipo de predicciones estoy obteniendo sobre el conjunto de test (vamos a pintar las imagenes y sus clasificaciones)"
      ]
    },
    {
      "cell_type": "code",
      "metadata": {
        "id": "Yjo3ZC5GsncX"
      },
      "source": [
        "predictions = model.predict(x_test_cnn)"
      ],
      "execution_count": 14,
      "outputs": []
    },
    {
      "cell_type": "markdown",
      "metadata": {
        "id": "MQRahQdlsncZ"
      },
      "source": [
        "Una de las ventajas de Python es que hay montones de funciones y código realizado por terceras personas. Aquí me he fusilado unas bonitas funciones (que he adaptado un poco a mis necesidades) para poder pintar las imagenes, su label (ground truth) y las clasificaciones que hemos realizado."
      ]
    },
    {
      "cell_type": "code",
      "metadata": {
        "id": "InrH-K0Ssnca"
      },
      "source": [
        "def plot_image(i, predictions_array, true_label, img):\n",
        "  predictions_array, true_label, img = predictions_array, true_label[i], img[i]\n",
        "  plt.grid(False)\n",
        "  plt.xticks([])\n",
        "  plt.yticks([])\n",
        "\n",
        "  plt.imshow(img, cmap=plt.cm.binary)\n",
        "\n",
        "  predicted_label = np.argmax(predictions_array)\n",
        "  if predicted_label == true_label:\n",
        "    color = 'blue'\n",
        "  else:\n",
        "    color = 'red'\n",
        "\n",
        "  plt.xlabel(\"{} {:2.0f}% ({})\".format(predicted_label,\n",
        "                                100*np.max(predictions_array),\n",
        "                                true_label),\n",
        "                                color=color)\n",
        "\n",
        "def plot_value_array(i, predictions_array, true_label):\n",
        "  predictions_array, true_label = predictions_array, true_label[i]\n",
        "  plt.grid(False)\n",
        "  plt.xticks(range(10))\n",
        "  plt.yticks([])\n",
        "  thisplot = plt.bar(range(10), predictions_array, color=\"#777777\")\n",
        "  plt.ylim([0, 1])\n",
        "  predicted_label = np.argmax(predictions_array)\n",
        "\n",
        "  thisplot[predicted_label].set_color('red')\n",
        "  thisplot[true_label].set_color('blue')"
      ],
      "execution_count": 15,
      "outputs": []
    },
    {
      "cell_type": "markdown",
      "metadata": {
        "id": "6vNXPfXRsncb"
      },
      "source": [
        "Dibujamos los primeros digitos, con las predicciones y sus valores reales (un total de 20 imagenes, para no abusar de vuestros laptops)\n",
        "\n",
        "Coloreamos las prediciones correctas en azul y los fallos en rojo"
      ]
    },
    {
      "cell_type": "code",
      "metadata": {
        "id": "KdRLodzusncb",
        "colab": {
          "base_uri": "https://localhost:8080/",
          "height": 729
        },
        "outputId": "206fdee7-f8e8-46d5-8a94-455f897ed1b2"
      },
      "source": [
        "num_rows = 5\n",
        "num_cols = 4\n",
        "start = 650\n",
        "num_images = num_rows*num_cols\n",
        "plt.figure(figsize=(2*2*num_cols, 2*num_rows))\n",
        "for i in range(num_images):\n",
        "  plt.subplot(num_rows, 2*num_cols, 2*i+1)\n",
        "  plot_image(i+start, predictions[i+start], y_test, x_test)\n",
        "  plt.subplot(num_rows, 2*num_cols, 2*i+2)\n",
        "  plot_value_array(i+start, predictions[i+start], y_test)\n",
        "plt.tight_layout()\n",
        "plt.show()"
      ],
      "execution_count": 16,
      "outputs": [
        {
          "output_type": "display_data",
          "data": {
            "image/png": "[encoded data removed]",
            "text/plain": [
              "<Figure size 1152x720 with 40 Axes>"
            ]
          },
          "metadata": {
            "tags": [],
            "needs_background": "light"
          }
        }
      ]
    },
    {
      "cell_type": "code",
      "metadata": {
        "id": "1F_SDq0Dsncc"
      },
      "source": [
        "from tensorflow.keras.models import load_model\n",
        "\n",
        "model.save('mnist_model.h5')"
      ],
      "execution_count": 17,
      "outputs": []
    },
    {
      "cell_type": "code",
      "metadata": {
        "id": "lq4zLTnMsncd"
      },
      "source": [
        ""
      ],
      "execution_count": 17,
      "outputs": []
    },
    {
      "cell_type": "code",
      "metadata": {
        "id": "mAywHv9Isncd"
      },
      "source": [
        ""
      ],
      "execution_count": 17,
      "outputs": []
    }
  ]
}
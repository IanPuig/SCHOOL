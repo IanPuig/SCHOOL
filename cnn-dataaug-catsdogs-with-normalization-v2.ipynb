{
 "cells": [
  {
   "cell_type": "markdown",
   "metadata": {
    "id": "p5UMi6C6KyEI"
   },
   "source": []
  },
  {
   "cell_type": "markdown",
   "metadata": {
    "id": "xULjVynfIMip"
   },
   "source": [
    "![Nuclio logo](https://nuclio.school/wp-content/uploads/2018/12/nucleoDS-newBlack.png)"
   ]
  },
  {
   "cell_type": "markdown",
   "metadata": {
    "id": "kswWzeShIMiq"
   },
   "source": [
    "## 1. Conectemonos a Google Drive y preparemos los datos\n",
    "\n",
    "Los datos los podeis encontrar en esta URL de Google Drive\n",
    "https://drive.google.com/open?id=1cCjzuanxmL15vz0xVt1BsFL1tBZZD0ox\n",
    "\n",
    "Movedlos a vuestro Drive!!"
   ]
  },
  {
   "cell_type": "code",
   "execution_count": null,
   "metadata": {
    "colab": {
     "base_uri": "https://localhost:8080/"
    },
    "id": "P12a4C2vzZL4",
    "outputId": "da5374e6-414d-4437-f2bc-4c64b1d0131d"
   },
   "outputs": [],
   "source": [
    "from google.colab import drive\n",
    "drive.mount('/content/drive')"
   ]
  },
  {
   "cell_type": "markdown",
   "metadata": {
    "id": "ZIVsM2ZsIMiw"
   },
   "source": [
    "## 2. Librerias\n",
    "\n",
    "Para empezar carguemos esas librerias que nos hacen falta"
   ]
  },
  {
   "cell_type": "code",
   "execution_count": 1,
   "metadata": {
    "_cell_guid": "b1076dfc-b9ad-4769-8c92-a6c4dae69d19",
    "_uuid": "8f2839f25d086af736a60e9eeb907d3b93b6e0e5",
    "id": "tMmwJ-ZEoz3P"
   },
   "outputs": [
    {
     "output_type": "error",
     "ename": "ImportError",
     "evalue": "cannot import name 'keras' from 'tensorflow' (c:\\Users\\MSIPC\\Desktop\\NUCLIO\\SESSIONS\\13._Deep_Learning_and_AI\\tensorflow.py)",
     "traceback": [
      "\u001b[1;31m---------------------------------------------------------------------------\u001b[0m",
      "\u001b[1;31mImportError\u001b[0m                               Traceback (most recent call last)",
      "\u001b[1;32m<ipython-input-1-3b2ad46d51c9>\u001b[0m in \u001b[0;36m<module>\u001b[1;34m\u001b[0m\n\u001b[0;32m      5\u001b[0m \u001b[1;32mimport\u001b[0m \u001b[0mos\u001b[0m\u001b[1;33m\u001b[0m\u001b[1;33m\u001b[0m\u001b[0m\n\u001b[0;32m      6\u001b[0m \u001b[1;33m\u001b[0m\u001b[0m\n\u001b[1;32m----> 7\u001b[1;33m \u001b[1;32mfrom\u001b[0m \u001b[0mtensorflow\u001b[0m \u001b[1;32mimport\u001b[0m \u001b[0mkeras\u001b[0m \u001b[1;32mas\u001b[0m \u001b[0mks\u001b[0m\u001b[1;33m\u001b[0m\u001b[1;33m\u001b[0m\u001b[0m\n\u001b[0m\u001b[0;32m      8\u001b[0m \u001b[1;32mfrom\u001b[0m \u001b[0mtensorflow\u001b[0m\u001b[1;33m.\u001b[0m\u001b[0mkeras\u001b[0m\u001b[1;33m.\u001b[0m\u001b[0mpreprocessing\u001b[0m\u001b[1;33m.\u001b[0m\u001b[0mimage\u001b[0m \u001b[1;32mimport\u001b[0m \u001b[0mImageDataGenerator\u001b[0m\u001b[1;33m,\u001b[0m \u001b[0mload_img\u001b[0m\u001b[1;33m\u001b[0m\u001b[1;33m\u001b[0m\u001b[0m\n\u001b[0;32m      9\u001b[0m \u001b[1;32mfrom\u001b[0m \u001b[0mkeras\u001b[0m\u001b[1;33m.\u001b[0m\u001b[0mutils\u001b[0m \u001b[1;32mimport\u001b[0m \u001b[0mto_categorical\u001b[0m\u001b[1;33m\u001b[0m\u001b[1;33m\u001b[0m\u001b[0m\n",
      "\u001b[1;31mImportError\u001b[0m: cannot import name 'keras' from 'tensorflow' (c:\\Users\\MSIPC\\Desktop\\NUCLIO\\SESSIONS\\13._Deep_Learning_and_AI\\tensorflow.py)"
     ]
    }
   ],
   "source": [
    "import numpy as np\n",
    "import matplotlib.pyplot as plt\n",
    "import random\n",
    "import pandas as pd\n",
    "import os\n",
    "\n",
    "from tensorflow import keras as ks\n",
    "from tensorflow.keras.preprocessing.image import ImageDataGenerator, load_img\n",
    "from keras.utils import to_categorical\n",
    "from tensorflow.keras.callbacks import EarlyStopping\n",
    "from tensorflow.keras.regularizers import l2"
   ]
  },
  {
   "cell_type": "markdown",
   "metadata": {
    "id": "8LYPneYfoz3i"
   },
   "source": [
    "## 3. Definimos algunas constantes"
   ]
  },
  {
   "cell_type": "code",
   "execution_count": null,
   "metadata": {
    "id": "n1_noICIoz3j"
   },
   "outputs": [],
   "source": [
    "ANCHO_IMAGEN=150\n",
    "ALTURA_IMAGEN=150\n",
    "IMAGE_SIZE=(ANCHO_IMAGEN, ALTURA_IMAGEN)\n",
    "CANALES_IMAGENES=3\n",
    "ruta = '/content/drive/My Drive/Nuclio_DS_Master/Dogs-vs-cats/'"
   ]
  },
  {
   "cell_type": "markdown",
   "metadata": {
    "_uuid": "7335a579cc0268fba5d34d6f7558f33c187eedb3",
    "id": "ex_xAKguoz3n"
   },
   "source": [
    "## 4. Preparamos los datos de entrenamiento\n",
    "\n",
    "Los cargaremos del formato NPZ que comentamos en la última clase, y que tenemos en el Drive\n",
    "\n"
   ]
  },
  {
   "cell_type": "code",
   "execution_count": null,
   "metadata": {
    "_cell_guid": "79c7e3d0-c299-4dcb-8224-4455121ee9b0",
    "_uuid": "d629ff2d2480ee46fbb7e2d37f6b5fab8052498a",
    "id": "z-eYrcixoz3o"
   },
   "outputs": [],
   "source": [
    "dict_npz = np.load(ruta+'xy_train_img.npz')\n",
    "x_train_img = dict_npz['x']\n",
    "y_train_img = dict_npz['y']\n",
    "\n",
    "dict_npz = np.load(ruta+'xy_test_img.npz')\n",
    "x_test_img = dict_npz['x']\n",
    "y_test_img = dict_npz['y']\n",
    "\n",
    "dict_npz = np.load(ruta+'xy_val_img.npz')\n",
    "x_val_img = dict_npz['x']\n",
    "y_val_img = dict_npz['y']\n",
    "\n",
    "\n",
    "x_train_scaled = x_train_img / 255.\n",
    "x_test_scaled = x_test_img / 255.\n",
    "x_val_scaled = x_val_img / 255."
   ]
  },
  {
   "cell_type": "code",
   "execution_count": null,
   "metadata": {
    "_uuid": "915bb9ba7063ab4d5c07c542419ae119003a5f98",
    "colab": {
     "base_uri": "https://localhost:8080/"
    },
    "id": "owVl2D5Voz3s",
    "outputId": "e0f0f6f2-8fed-4c31-bfb8-9941b9867337"
   },
   "outputs": [],
   "source": [
    "print(\"Tamaño X train:\", x_train_scaled.shape)\r\n",
    "print(\"Tamaño Y train:\", y_train_img.shape)\r\n",
    "\r\n",
    "print(\"Tamaño X test:\", x_test_scaled.shape)\r\n",
    "print(\"Tamaño Y test:\", y_test_img.shape)\r\n",
    "\r\n",
    "print(\"Tamaño X val:\", x_val_scaled.shape)\r\n",
    "print(\"Tamaño Y val:\", y_val_img.shape)\r\n",
    "\r\n"
   ]
  },
  {
   "cell_type": "markdown",
   "metadata": {
    "_uuid": "a999484fc35b73373fafe2253ae9db7ff46fdb90",
    "id": "3eWnz7Uioz32"
   },
   "source": [
    "## 5. Exploremos los datos"
   ]
  },
  {
   "cell_type": "code",
   "execution_count": null,
   "metadata": {
    "_uuid": "fa26f0bc7a6d835a24989790b20f3c6f32946f45",
    "colab": {
     "base_uri": "https://localhost:8080/",
     "height": 291
    },
    "id": "xvjKCJDYoz32",
    "outputId": "14c90adf-2969-48a0-8116-1fc51f6f9a5b"
   },
   "outputs": [],
   "source": [
    "df_train = pd.DataFrame(y_train_img, columns=['category'])\r\n",
    "df_train['category'].value_counts().plot.bar()"
   ]
  },
  {
   "cell_type": "markdown",
   "metadata": {
    "_uuid": "3a08da58107777a1dd05c4a4bf5c484484923cac",
    "id": "Hqzssxq7oz37"
   },
   "source": [
    "Como podemos ver tenemos 1458 ejemplos de cada clase... poquito para ser una red neuronal para vision por computador... ya vereis..."
   ]
  },
  {
   "cell_type": "markdown",
   "metadata": {
    "_uuid": "400a293df3c8499059d9175f3915187074efd971",
    "id": "3-gXqKRzoz38"
   },
   "source": [
    "## 6. Pintemos una imagen"
   ]
  },
  {
   "cell_type": "code",
   "execution_count": null,
   "metadata": {
    "_uuid": "602b40f7353871cb161c60b5237f0da0096b2f47",
    "colab": {
     "base_uri": "https://localhost:8080/",
     "height": 287
    },
    "id": "2hwgI2aVoz39",
    "outputId": "6dd94805-2847-4eb4-babb-5fc48fbb5f1e"
   },
   "outputs": [],
   "source": [
    "sample = random.choice(range(0,1457))\n",
    "image = x_train_scaled[sample]\n",
    "plt.imshow(image, cmap=plt.cm.binary)"
   ]
  },
  {
   "cell_type": "markdown",
   "metadata": {
    "_uuid": "b244e6b7715a04fc6df92dd6dfa3d35c473ca600",
    "id": "oCEFBfkWoz4B"
   },
   "source": [
    "## 7. Apilemos bloques para hacer el modelo\n",
    "\n",
    "<img src=\"https://i.imgur.com/ebkMGGu.jpg\" width=\"100%\"/>"
   ]
  },
  {
   "cell_type": "markdown",
   "metadata": {
    "id": "VGbXfyJJsrx-"
   },
   "source": []
  },
  {
   "cell_type": "code",
   "execution_count": null,
   "metadata": {
    "_uuid": "8c9f833c1441b657c779844912d0b8028218d454",
    "colab": {
     "base_uri": "https://localhost:8080/"
    },
    "id": "RwIlNswdoz4E",
    "outputId": "402afb4b-8df0-405d-ecf9-75af8a9657fe"
   },
   "outputs": [],
   "source": [
    "model = ks.Sequential()\n",
    "\n",
    "model.add(ks.layers.Conv2D(16, (3, 3), activation='relu', kernel_regularizer=l2(0.001),\n",
    "                           kernel_initializer='he_uniform', input_shape=(ANCHO_IMAGEN, ALTURA_IMAGEN, CANALES_IMAGENES)))\n",
    "model.add(ks.layers.BatchNormalization())\n",
    "model.add(ks.layers.MaxPooling2D(pool_size=(2, 2)))\n",
    "\n",
    "model.add(ks.layers.Conv2D(64, (3, 3), activation='relu', kernel_regularizer=l2(0.001), kernel_initializer='he_uniform'))\n",
    "model.add(ks.layers.BatchNormalization())\n",
    "model.add(ks.layers.MaxPooling2D(pool_size=(2, 2)))\n",
    "\n",
    "model.add(ks.layers.Conv2D(128, (3, 3), activation='relu', kernel_regularizer=l2(0.001), kernel_initializer='he_uniform'))\n",
    "model.add(ks.layers.BatchNormalization())\n",
    "model.add(ks.layers.MaxPooling2D(pool_size=(2, 2)))\n",
    "\n",
    "model.add(ks.layers.Conv2D(128, (3, 3), activation='relu', kernel_regularizer=l2(0.001), kernel_initializer='he_uniform'))\n",
    "model.add(ks.layers.BatchNormalization())\n",
    "model.add(ks.layers.MaxPooling2D(pool_size=(2, 2)))\n",
    "\n",
    "model.add(ks.layers.Flatten())\n",
    "model.add(ks.layers.Dense(512, activation='relu', kernel_regularizer=l2(0.001), kernel_initializer='he_uniform'))\n",
    "model.add(ks.layers.BatchNormalization())\n",
    "model.add(ks.layers.Dropout(0.3))\n",
    "model.add(ks.layers.Dense(512, activation='relu', kernel_regularizer=l2(0.001), kernel_initializer='he_uniform'))\n",
    "model.add(ks.layers.BatchNormalization())\n",
    "model.add(ks.layers.Dropout(0.3))\n",
    "model.add(ks.layers.Dense(1, activation='sigmoid')) # 1 de salida porque tenemos dos valores posibles 0 o 1 (tras aplicar un label encoder a dog y cat)\n",
    "\n",
    "model.summary()"
   ]
  },
  {
   "cell_type": "markdown",
   "metadata": {
    "id": "oUWzg0-hnesq"
   },
   "source": [
    "## 8. Montemos el optimizador compilando el modelo\n"
   ]
  },
  {
   "cell_type": "code",
   "execution_count": null,
   "metadata": {
    "id": "J3XFSpbcnd3M"
   },
   "outputs": [],
   "source": [
    "model.compile(loss='binary_crossentropy', optimizer='Adam', metrics=['accuracy'])"
   ]
  },
  {
   "cell_type": "markdown",
   "metadata": {
    "_uuid": "bd496f6c65888a969be3703135b0b03a8a1190c8",
    "id": "FjqQRO0Voz4I"
   },
   "source": [
    "## 9. Definamos un callback para el Early Stopping"
   ]
  },
  {
   "cell_type": "markdown",
   "metadata": {
    "_uuid": "76c9ba4fb7f930c96b2c3e0d6b68ed9fa6a4227b",
    "id": "kBF3ly91oz4P"
   },
   "source": [
    "**Early Stopping**\n",
    "\n",
    "Prevenimos el sobre ajuste parando cuando tras 10 epochs y el error de la validacion no decrementa (estamos en una plateau)"
   ]
  },
  {
   "cell_type": "code",
   "execution_count": null,
   "metadata": {
    "_uuid": "3421c5ec428da6c0d8cc1184179a9caff1e01d1c",
    "id": "tvAN5_48oz4Q"
   },
   "outputs": [],
   "source": [
    "callback_val_loss = EarlyStopping(monitor=\"val_loss\", patience=5)\n",
    "callback_val_accuracy = EarlyStopping(monitor=\"val_accuracy\", patience=10)"
   ]
  },
  {
   "cell_type": "markdown",
   "metadata": {
    "id": "YycSloTfoz4Z"
   },
   "source": [
    "## 10. Preparamos los datos"
   ]
  },
  {
   "cell_type": "markdown",
   "metadata": {
    "id": "wIE5IV7voz4a"
   },
   "source": [
    "Haremos un one-hote encoding que nos va a ir bien para nuestra clasificación"
   ]
  },
  {
   "cell_type": "code",
   "execution_count": null,
   "metadata": {
    "colab": {
     "base_uri": "https://localhost:8080/"
    },
    "id": "GpngtNKUxV3v",
    "outputId": "fa3709a7-15c2-4804-b29f-99be16f7420e"
   },
   "outputs": [],
   "source": [
    "y_train_img"
   ]
  },
  {
   "cell_type": "code",
   "execution_count": null,
   "metadata": {
    "id": "Q9darYNr97B1"
   },
   "outputs": [],
   "source": [
    "from sklearn.preprocessing import LabelEncoder\r\n",
    "\r\n",
    "le = LabelEncoder()\r\n",
    "le.fit(y_train_img)\r\n",
    "y_train_encoded = le.transform(y_train_img)\r\n",
    "y_val_encoded = le.transform(y_val_img)\r\n",
    "y_test_encoded = le.transform(y_test_img)"
   ]
  },
  {
   "cell_type": "code",
   "execution_count": null,
   "metadata": {
    "colab": {
     "base_uri": "https://localhost:8080/"
    },
    "id": "rnqC3rm--O0o",
    "outputId": "2ca63f15-661f-4bb9-864e-787db6236c54"
   },
   "outputs": [],
   "source": [
    "y_train_encoded"
   ]
  },
  {
   "cell_type": "markdown",
   "metadata": {
    "_uuid": "ff760be9104f7d9492467b8d9d3405011aa77d11",
    "id": "DmgPnBdWoz4u"
   },
   "source": [
    "## 11. Transformador de imagenes a datos consumibles por la red neuronal\n",
    "\n",
    "**De entrenamiento**\n",
    "\n",
    "Aquí incluiremos nuestra parte de generación de imagenes (con código de partida)"
   ]
  },
  {
   "cell_type": "code",
   "execution_count": null,
   "metadata": {
    "_uuid": "4d1c7818703a8a4bac5c036fdea45972aa9e5e9e",
    "id": "Nlxz_DO7oz4v"
   },
   "outputs": [],
   "source": [
    "train_datagen = ImageDataGenerator(\n",
    "    rescale=1./255,\n",
    "    )\n",
    "\n",
    "train_generator = train_datagen.flow(\n",
    "    x_train_img, \n",
    "    y_train_encoded, \n",
    "    batch_size=30\n",
    ")"
   ]
  },
  {
   "cell_type": "markdown",
   "metadata": {
    "_uuid": "859c7b2857939c19fd2e3bb32839c9f7deb5aa3f",
    "id": "e7qjyLM-oz4y"
   },
   "source": [
    "**De validacion y de testeo**\n",
    "\n",
    "Fijaos que aquí la única modificación es un re-escalado, nada de modificaciones"
   ]
  },
  {
   "cell_type": "code",
   "execution_count": null,
   "metadata": {
    "_uuid": "7925e16bcacc89f4484fb6fe47e54d6420af732e",
    "id": "HpWcatHOoz4z"
   },
   "outputs": [],
   "source": [
    "validation_datagen = ImageDataGenerator(\n",
    "    rescale=1./255\n",
    "    )\n",
    "validation_generator = validation_datagen.flow(\n",
    "    x_val_img, \n",
    "    y_val_encoded, \n",
    "    batch_size=20\n",
    ")\n",
    "\n",
    "test_datagen = ImageDataGenerator(\n",
    "    rescale=1./255\n",
    "    )\n",
    "test_generator = test_datagen.flow(\n",
    "    x_test_img, \n",
    "    y_test_encoded,\n",
    "    batch_size=20\n",
    ")"
   ]
  },
  {
   "cell_type": "markdown",
   "metadata": {
    "_uuid": "810ddf1373d9db470ed48da4f30ca5a6c1274435",
    "id": "WRT9BikCoz4-"
   },
   "source": [
    "No tiene mala pinta!!"
   ]
  },
  {
   "cell_type": "markdown",
   "metadata": {
    "id": "oIEMYd471wV8"
   },
   "source": [
    "## 12. Veamos que pinta tiene el generador de datos\r\n",
    "\r\n",
    "A rellenar para ver que nos da el generadord de imagenes nuevas"
   ]
  },
  {
   "cell_type": "code",
   "execution_count": null,
   "metadata": {
    "id": "4v0izLCV1346"
   },
   "outputs": [],
   "source": []
  },
  {
   "cell_type": "code",
   "execution_count": null,
   "metadata": {
    "id": "XZsGvzQ213CL"
   },
   "outputs": [],
   "source": []
  },
  {
   "cell_type": "markdown",
   "metadata": {
    "_uuid": "5cd8df64e794ed17de326b613a9819e7da977a0e",
    "id": "cT4ohS-ioz4_"
   },
   "source": [
    "## 13. Entrenemos el modelo!"
   ]
  },
  {
   "cell_type": "code",
   "execution_count": null,
   "metadata": {
    "_uuid": "0836a4cc8aa0abf603e0f96573c0c4ff383ad56b",
    "colab": {
     "base_uri": "https://localhost:8080/"
    },
    "id": "xgh5rr0doz5A",
    "outputId": "8fdbeb98-4635-4e25-8aa5-50613f672f1a"
   },
   "outputs": [],
   "source": [
    "epochs = 200\n",
    "\n",
    "history = model.fit(x_train_scaled, y_train_encoded, epochs=epochs, validation_data=(x_val_scaled, y_val_encoded), batch_size=64, callbacks=[callback_val_loss, callback_val_accuracy])"
   ]
  },
  {
   "cell_type": "markdown",
   "metadata": {
    "_uuid": "aa1fbc4081ae0de2993188b2bf658a0be5bc0687",
    "id": "A6Uio2wgoz5D"
   },
   "source": [
    "## 14. Guardemos el modelo"
   ]
  },
  {
   "cell_type": "code",
   "execution_count": null,
   "metadata": {
    "_uuid": "67575a4decdaf79a915d23151626b784ffa82642",
    "id": "Wv8k1cSeoz5E"
   },
   "outputs": [],
   "source": [
    "model.save(ruta+'model_without_data_augmentation_plus_batchnormalization.h5')"
   ]
  },
  {
   "cell_type": "markdown",
   "metadata": {
    "_uuid": "1b76c0a9040bc0babf0a453e567e41e22f8a1e0e",
    "id": "7CWxAqsOoz5H"
   },
   "source": [
    "## 15. Veamos los resultados"
   ]
  },
  {
   "cell_type": "code",
   "execution_count": null,
   "metadata": {
    "_uuid": "79055f2dc3e2abb47bea758e0464c86ca42ab431",
    "colab": {
     "base_uri": "https://localhost:8080/",
     "height": 545
    },
    "id": "if5uxIKkoz5I",
    "outputId": "4cf019c7-7adf-43d6-95e4-fa7b78e3324c"
   },
   "outputs": [],
   "source": [
    "plt.title('Cross Entropy Loss')\n",
    "plt.plot(history.history['loss'], color='blue', label='train')\n",
    "plt.plot(history.history['val_loss'], color='orange', label='test')\n",
    "plt.show()\n",
    "\n",
    "plt.title('Classification Accuracy')\n",
    "plt.plot(history.history['accuracy'], color='blue', label='train')\n",
    "plt.plot(history.history['val_accuracy'], color='orange', label='test')\n",
    "plt.show()"
   ]
  },
  {
   "cell_type": "code",
   "execution_count": null,
   "metadata": {
    "colab": {
     "base_uri": "https://localhost:8080/"
    },
    "id": "PEtAd5Xwp1_y",
    "outputId": "da81ffad-e656-47c4-a6d5-3cef6074a4c0"
   },
   "outputs": [],
   "source": [
    "_, acc = model.evaluate(x_test_scaled, y_test_encoded, verbose=0)\r\n",
    "print('Modelocon Batch Normalizationn > %.3f' % (acc * 100.0))"
   ]
  }
 ],
 "metadata": {
  "accelerator": "GPU",
  "colab": {
   "name": "keras-cnn-dog-or-cat-classification.ipynb",
   "provenance": []
  },
  "kernelspec": {
   "name": "python3",
   "display_name": "Python 3.9.0 64-bit",
   "metadata": {
    "interpreter": {
     "hash": "63bbee2618d5ad25095f2454e691e6caaf22586ae2d6d9e7a8914ed4dda6fd83"
    }
   }
  },
  "language_info": {
   "codemirror_mode": {
    "name": "ipython",
    "version": 3
   },
   "file_extension": ".py",
   "mimetype": "text/x-python",
   "name": "python",
   "nbconvert_exporter": "python",
   "pygments_lexer": "ipython3",
   "version": "3.9.0-final"
  }
 },
 "nbformat": 4,
 "nbformat_minor": 4
}